{
 "cells": [
  {
   "cell_type": "code",
   "execution_count": 119,
   "id": "cd00d32b-dae6-4e21-b101-7d33a6f6d5ae",
   "metadata": {
    "scrolled": true
   },
   "outputs": [
    {
     "name": "stdout",
     "output_type": "stream",
     "text": [
      "Requirement already satisfied: transformers==4.48.3 in /home/jordan/miniconda3/lib/python3.12/site-packages (4.48.3)\n",
      "Requirement already satisfied: accelerate==0.26.0 in /home/jordan/miniconda3/lib/python3.12/site-packages (0.26.0)\n",
      "Requirement already satisfied: datasets==3.2.0 in /home/jordan/miniconda3/lib/python3.12/site-packages (3.2.0)\n",
      "Requirement already satisfied: torch==2.6.0 in /home/jordan/miniconda3/lib/python3.12/site-packages (2.6.0)\n",
      "Requirement already satisfied: python-dotenv in /home/jordan/miniconda3/lib/python3.12/site-packages (1.0.1)\n",
      "Requirement already satisfied: peft==0.14.0 in /home/jordan/miniconda3/lib/python3.12/site-packages (0.14.0)\n",
      "Requirement already satisfied: langchain in /home/jordan/miniconda3/lib/python3.12/site-packages (0.3.19)\n",
      "Requirement already satisfied: langchain-community in /home/jordan/miniconda3/lib/python3.12/site-packages (0.3.18)\n",
      "Requirement already satisfied: langchain-openai in /home/jordan/miniconda3/lib/python3.12/site-packages (0.3.7)\n",
      "Requirement already satisfied: langchain-huggingface in /home/jordan/miniconda3/lib/python3.12/site-packages (0.1.2)\n",
      "Requirement already satisfied: bitsandbytes in /home/jordan/miniconda3/lib/python3.12/site-packages (0.45.3)\n",
      "Requirement already satisfied: openai in /home/jordan/miniconda3/lib/python3.12/site-packages (1.65.1)\n",
      "Requirement already satisfied: cx_Oracle in /home/jordan/miniconda3/lib/python3.12/site-packages (8.3.0)\n",
      "Collecting dotenv\n",
      "  Downloading dotenv-0.9.9-py2.py3-none-any.whl.metadata (279 bytes)\n",
      "Requirement already satisfied: filelock in /home/jordan/miniconda3/lib/python3.12/site-packages (from transformers==4.48.3) (3.17.0)\n",
      "Requirement already satisfied: huggingface-hub<1.0,>=0.24.0 in /home/jordan/miniconda3/lib/python3.12/site-packages (from transformers==4.48.3) (0.29.1)\n",
      "Requirement already satisfied: numpy>=1.17 in /home/jordan/miniconda3/lib/python3.12/site-packages (from transformers==4.48.3) (2.2.3)\n",
      "Requirement already satisfied: packaging>=20.0 in /home/jordan/miniconda3/lib/python3.12/site-packages (from transformers==4.48.3) (24.1)\n",
      "Requirement already satisfied: pyyaml>=5.1 in /home/jordan/miniconda3/lib/python3.12/site-packages (from transformers==4.48.3) (6.0.2)\n",
      "Requirement already satisfied: regex!=2019.12.17 in /home/jordan/miniconda3/lib/python3.12/site-packages (from transformers==4.48.3) (2024.11.6)\n",
      "Requirement already satisfied: requests in /home/jordan/miniconda3/lib/python3.12/site-packages (from transformers==4.48.3) (2.32.3)\n",
      "Requirement already satisfied: tokenizers<0.22,>=0.21 in /home/jordan/miniconda3/lib/python3.12/site-packages (from transformers==4.48.3) (0.21.0)\n",
      "Requirement already satisfied: safetensors>=0.4.1 in /home/jordan/miniconda3/lib/python3.12/site-packages (from transformers==4.48.3) (0.5.3)\n",
      "Requirement already satisfied: tqdm>=4.27 in /home/jordan/miniconda3/lib/python3.12/site-packages (from transformers==4.48.3) (4.66.5)\n",
      "Requirement already satisfied: psutil in /home/jordan/miniconda3/lib/python3.12/site-packages (from accelerate==0.26.0) (7.0.0)\n",
      "Requirement already satisfied: pyarrow>=15.0.0 in /home/jordan/miniconda3/lib/python3.12/site-packages (from datasets==3.2.0) (19.0.1)\n",
      "Requirement already satisfied: dill<0.3.9,>=0.3.0 in /home/jordan/miniconda3/lib/python3.12/site-packages (from datasets==3.2.0) (0.3.8)\n",
      "Requirement already satisfied: pandas in /home/jordan/miniconda3/lib/python3.12/site-packages (from datasets==3.2.0) (2.2.3)\n",
      "Requirement already satisfied: xxhash in /home/jordan/miniconda3/lib/python3.12/site-packages (from datasets==3.2.0) (3.5.0)\n",
      "Requirement already satisfied: multiprocess<0.70.17 in /home/jordan/miniconda3/lib/python3.12/site-packages (from datasets==3.2.0) (0.70.16)\n",
      "Requirement already satisfied: fsspec<=2024.9.0,>=2023.1.0 in /home/jordan/miniconda3/lib/python3.12/site-packages (from fsspec[http]<=2024.9.0,>=2023.1.0->datasets==3.2.0) (2024.9.0)\n",
      "Requirement already satisfied: aiohttp in /home/jordan/miniconda3/lib/python3.12/site-packages (from datasets==3.2.0) (3.11.13)\n",
      "Requirement already satisfied: typing-extensions>=4.10.0 in /home/jordan/miniconda3/lib/python3.12/site-packages (from torch==2.6.0) (4.12.2)\n",
      "Requirement already satisfied: networkx in /home/jordan/miniconda3/lib/python3.12/site-packages (from torch==2.6.0) (3.4.2)\n",
      "Requirement already satisfied: jinja2 in /home/jordan/miniconda3/lib/python3.12/site-packages (from torch==2.6.0) (3.1.5)\n",
      "Requirement already satisfied: nvidia-cuda-nvrtc-cu12==12.4.127 in /home/jordan/miniconda3/lib/python3.12/site-packages (from torch==2.6.0) (12.4.127)\n",
      "Requirement already satisfied: nvidia-cuda-runtime-cu12==12.4.127 in /home/jordan/miniconda3/lib/python3.12/site-packages (from torch==2.6.0) (12.4.127)\n",
      "Requirement already satisfied: nvidia-cuda-cupti-cu12==12.4.127 in /home/jordan/miniconda3/lib/python3.12/site-packages (from torch==2.6.0) (12.4.127)\n",
      "Requirement already satisfied: nvidia-cudnn-cu12==9.1.0.70 in /home/jordan/miniconda3/lib/python3.12/site-packages (from torch==2.6.0) (9.1.0.70)\n",
      "Requirement already satisfied: nvidia-cublas-cu12==12.4.5.8 in /home/jordan/miniconda3/lib/python3.12/site-packages (from torch==2.6.0) (12.4.5.8)\n",
      "Requirement already satisfied: nvidia-cufft-cu12==11.2.1.3 in /home/jordan/miniconda3/lib/python3.12/site-packages (from torch==2.6.0) (11.2.1.3)\n",
      "Requirement already satisfied: nvidia-curand-cu12==10.3.5.147 in /home/jordan/miniconda3/lib/python3.12/site-packages (from torch==2.6.0) (10.3.5.147)\n",
      "Requirement already satisfied: nvidia-cusolver-cu12==11.6.1.9 in /home/jordan/miniconda3/lib/python3.12/site-packages (from torch==2.6.0) (11.6.1.9)\n",
      "Requirement already satisfied: nvidia-cusparse-cu12==12.3.1.170 in /home/jordan/miniconda3/lib/python3.12/site-packages (from torch==2.6.0) (12.3.1.170)\n",
      "Requirement already satisfied: nvidia-cusparselt-cu12==0.6.2 in /home/jordan/miniconda3/lib/python3.12/site-packages (from torch==2.6.0) (0.6.2)\n",
      "Requirement already satisfied: nvidia-nccl-cu12==2.21.5 in /home/jordan/miniconda3/lib/python3.12/site-packages (from torch==2.6.0) (2.21.5)\n",
      "Requirement already satisfied: nvidia-nvtx-cu12==12.4.127 in /home/jordan/miniconda3/lib/python3.12/site-packages (from torch==2.6.0) (12.4.127)\n",
      "Requirement already satisfied: nvidia-nvjitlink-cu12==12.4.127 in /home/jordan/miniconda3/lib/python3.12/site-packages (from torch==2.6.0) (12.4.127)\n",
      "Requirement already satisfied: triton==3.2.0 in /home/jordan/miniconda3/lib/python3.12/site-packages (from torch==2.6.0) (3.2.0)\n",
      "Requirement already satisfied: setuptools in /home/jordan/miniconda3/lib/python3.12/site-packages (from torch==2.6.0) (75.1.0)\n",
      "Requirement already satisfied: sympy==1.13.1 in /home/jordan/miniconda3/lib/python3.12/site-packages (from torch==2.6.0) (1.13.1)\n",
      "Requirement already satisfied: mpmath<1.4,>=1.1.0 in /home/jordan/miniconda3/lib/python3.12/site-packages (from sympy==1.13.1->torch==2.6.0) (1.3.0)\n",
      "Requirement already satisfied: langchain-core<1.0.0,>=0.3.35 in /home/jordan/miniconda3/lib/python3.12/site-packages (from langchain) (0.3.40)\n",
      "Requirement already satisfied: langchain-text-splitters<1.0.0,>=0.3.6 in /home/jordan/miniconda3/lib/python3.12/site-packages (from langchain) (0.3.6)\n",
      "Requirement already satisfied: langsmith<0.4,>=0.1.17 in /home/jordan/miniconda3/lib/python3.12/site-packages (from langchain) (0.3.11)\n",
      "Requirement already satisfied: pydantic<3.0.0,>=2.7.4 in /home/jordan/miniconda3/lib/python3.12/site-packages (from langchain) (2.10.6)\n",
      "Requirement already satisfied: SQLAlchemy<3,>=1.4 in /home/jordan/miniconda3/lib/python3.12/site-packages (from langchain) (2.0.38)\n",
      "Requirement already satisfied: tenacity!=8.4.0,<10,>=8.1.0 in /home/jordan/miniconda3/lib/python3.12/site-packages (from langchain) (9.0.0)\n",
      "Requirement already satisfied: dataclasses-json<0.7,>=0.5.7 in /home/jordan/miniconda3/lib/python3.12/site-packages (from langchain-community) (0.6.7)\n",
      "Requirement already satisfied: pydantic-settings<3.0.0,>=2.4.0 in /home/jordan/miniconda3/lib/python3.12/site-packages (from langchain-community) (2.8.1)\n",
      "Requirement already satisfied: httpx-sse<1.0.0,>=0.4.0 in /home/jordan/miniconda3/lib/python3.12/site-packages (from langchain-community) (0.4.0)\n",
      "Requirement already satisfied: tiktoken<1,>=0.7 in /home/jordan/miniconda3/lib/python3.12/site-packages (from langchain-openai) (0.9.0)\n",
      "Requirement already satisfied: sentence-transformers>=2.6.0 in /home/jordan/miniconda3/lib/python3.12/site-packages (from langchain-huggingface) (3.4.1)\n",
      "Requirement already satisfied: anyio<5,>=3.5.0 in /home/jordan/miniconda3/lib/python3.12/site-packages (from openai) (4.8.0)\n",
      "Requirement already satisfied: distro<2,>=1.7.0 in /home/jordan/miniconda3/lib/python3.12/site-packages (from openai) (1.9.0)\n",
      "Requirement already satisfied: httpx<1,>=0.23.0 in /home/jordan/miniconda3/lib/python3.12/site-packages (from openai) (0.28.1)\n",
      "Requirement already satisfied: jiter<1,>=0.4.0 in /home/jordan/miniconda3/lib/python3.12/site-packages (from openai) (0.8.2)\n",
      "Requirement already satisfied: sniffio in /home/jordan/miniconda3/lib/python3.12/site-packages (from openai) (1.3.1)\n",
      "Requirement already satisfied: aiohappyeyeballs>=2.3.0 in /home/jordan/miniconda3/lib/python3.12/site-packages (from aiohttp->datasets==3.2.0) (2.4.6)\n",
      "Requirement already satisfied: aiosignal>=1.1.2 in /home/jordan/miniconda3/lib/python3.12/site-packages (from aiohttp->datasets==3.2.0) (1.3.2)\n",
      "Requirement already satisfied: attrs>=17.3.0 in /home/jordan/miniconda3/lib/python3.12/site-packages (from aiohttp->datasets==3.2.0) (25.1.0)\n",
      "Requirement already satisfied: frozenlist>=1.1.1 in /home/jordan/miniconda3/lib/python3.12/site-packages (from aiohttp->datasets==3.2.0) (1.5.0)\n",
      "Requirement already satisfied: multidict<7.0,>=4.5 in /home/jordan/miniconda3/lib/python3.12/site-packages (from aiohttp->datasets==3.2.0) (6.1.0)\n",
      "Requirement already satisfied: propcache>=0.2.0 in /home/jordan/miniconda3/lib/python3.12/site-packages (from aiohttp->datasets==3.2.0) (0.3.0)\n",
      "Requirement already satisfied: yarl<2.0,>=1.17.0 in /home/jordan/miniconda3/lib/python3.12/site-packages (from aiohttp->datasets==3.2.0) (1.18.3)\n",
      "Requirement already satisfied: idna>=2.8 in /home/jordan/miniconda3/lib/python3.12/site-packages (from anyio<5,>=3.5.0->openai) (3.7)\n",
      "Requirement already satisfied: marshmallow<4.0.0,>=3.18.0 in /home/jordan/miniconda3/lib/python3.12/site-packages (from dataclasses-json<0.7,>=0.5.7->langchain-community) (3.26.1)\n",
      "Requirement already satisfied: typing-inspect<1,>=0.4.0 in /home/jordan/miniconda3/lib/python3.12/site-packages (from dataclasses-json<0.7,>=0.5.7->langchain-community) (0.9.0)\n",
      "Requirement already satisfied: certifi in /home/jordan/miniconda3/lib/python3.12/site-packages (from httpx<1,>=0.23.0->openai) (2024.8.30)\n",
      "Requirement already satisfied: httpcore==1.* in /home/jordan/miniconda3/lib/python3.12/site-packages (from httpx<1,>=0.23.0->openai) (1.0.7)\n",
      "Requirement already satisfied: h11<0.15,>=0.13 in /home/jordan/miniconda3/lib/python3.12/site-packages (from httpcore==1.*->httpx<1,>=0.23.0->openai) (0.14.0)\n",
      "Requirement already satisfied: jsonpatch<2.0,>=1.33 in /home/jordan/miniconda3/lib/python3.12/site-packages (from langchain-core<1.0.0,>=0.3.35->langchain) (1.33)\n",
      "Requirement already satisfied: orjson<4.0.0,>=3.9.14 in /home/jordan/miniconda3/lib/python3.12/site-packages (from langsmith<0.4,>=0.1.17->langchain) (3.10.15)\n",
      "Requirement already satisfied: requests-toolbelt<2.0.0,>=1.0.0 in /home/jordan/miniconda3/lib/python3.12/site-packages (from langsmith<0.4,>=0.1.17->langchain) (1.0.0)\n",
      "Requirement already satisfied: zstandard<0.24.0,>=0.23.0 in /home/jordan/miniconda3/lib/python3.12/site-packages (from langsmith<0.4,>=0.1.17->langchain) (0.23.0)\n",
      "Requirement already satisfied: annotated-types>=0.6.0 in /home/jordan/miniconda3/lib/python3.12/site-packages (from pydantic<3.0.0,>=2.7.4->langchain) (0.7.0)\n",
      "Requirement already satisfied: pydantic-core==2.27.2 in /home/jordan/miniconda3/lib/python3.12/site-packages (from pydantic<3.0.0,>=2.7.4->langchain) (2.27.2)\n",
      "Requirement already satisfied: charset-normalizer<4,>=2 in /home/jordan/miniconda3/lib/python3.12/site-packages (from requests->transformers==4.48.3) (3.3.2)\n",
      "Requirement already satisfied: urllib3<3,>=1.21.1 in /home/jordan/miniconda3/lib/python3.12/site-packages (from requests->transformers==4.48.3) (2.2.3)\n",
      "Requirement already satisfied: scikit-learn in /home/jordan/miniconda3/lib/python3.12/site-packages (from sentence-transformers>=2.6.0->langchain-huggingface) (1.6.1)\n",
      "Requirement already satisfied: scipy in /home/jordan/miniconda3/lib/python3.12/site-packages (from sentence-transformers>=2.6.0->langchain-huggingface) (1.15.2)\n",
      "Requirement already satisfied: Pillow in /home/jordan/miniconda3/lib/python3.12/site-packages (from sentence-transformers>=2.6.0->langchain-huggingface) (11.1.0)\n",
      "Requirement already satisfied: greenlet!=0.4.17 in /home/jordan/miniconda3/lib/python3.12/site-packages (from SQLAlchemy<3,>=1.4->langchain) (3.1.1)\n",
      "Requirement already satisfied: MarkupSafe>=2.0 in /home/jordan/miniconda3/lib/python3.12/site-packages (from jinja2->torch==2.6.0) (3.0.2)\n",
      "Requirement already satisfied: python-dateutil>=2.8.2 in /home/jordan/miniconda3/lib/python3.12/site-packages (from pandas->datasets==3.2.0) (2.9.0.post0)\n",
      "Requirement already satisfied: pytz>=2020.1 in /home/jordan/miniconda3/lib/python3.12/site-packages (from pandas->datasets==3.2.0) (2025.1)\n",
      "Requirement already satisfied: tzdata>=2022.7 in /home/jordan/miniconda3/lib/python3.12/site-packages (from pandas->datasets==3.2.0) (2025.1)\n",
      "Requirement already satisfied: jsonpointer>=1.9 in /home/jordan/miniconda3/lib/python3.12/site-packages (from jsonpatch<2.0,>=1.33->langchain-core<1.0.0,>=0.3.35->langchain) (2.1)\n",
      "Requirement already satisfied: six>=1.5 in /home/jordan/miniconda3/lib/python3.12/site-packages (from python-dateutil>=2.8.2->pandas->datasets==3.2.0) (1.17.0)\n",
      "Requirement already satisfied: mypy-extensions>=0.3.0 in /home/jordan/miniconda3/lib/python3.12/site-packages (from typing-inspect<1,>=0.4.0->dataclasses-json<0.7,>=0.5.7->langchain-community) (1.0.0)\n",
      "Requirement already satisfied: joblib>=1.2.0 in /home/jordan/miniconda3/lib/python3.12/site-packages (from scikit-learn->sentence-transformers>=2.6.0->langchain-huggingface) (1.4.2)\n",
      "Requirement already satisfied: threadpoolctl>=3.1.0 in /home/jordan/miniconda3/lib/python3.12/site-packages (from scikit-learn->sentence-transformers>=2.6.0->langchain-huggingface) (3.5.0)\n",
      "Downloading dotenv-0.9.9-py2.py3-none-any.whl (1.9 kB)\n",
      "Installing collected packages: dotenv\n",
      "Successfully installed dotenv-0.9.9\n",
      "Note: you may need to restart the kernel to use updated packages.\n"
     ]
    }
   ],
   "source": [
    "pip install transformers==4.48.3 accelerate==0.26.0 datasets==3.2.0 torch==2.6.0 python-dotenv peft==0.14.0 langchain langchain-community langchain-openai langchain-huggingface bitsandbytes openai cx_Oracle dotenv"
   ]
  },
  {
   "cell_type": "code",
   "execution_count": 120,
   "id": "d74d3df3-942a-4520-9960-47ca88adb243",
   "metadata": {},
   "outputs": [],
   "source": [
    "from langchain_openai import ChatOpenAI\n",
    "from openai import OpenAI\n",
    "import os\n",
    "import json\n",
    "from langchain_core.messages import FunctionMessage\n",
    "from langchain.schema import HumanMessage, AIMessage, ChatMessage\n",
    "from dotenv import dotenv_values"
   ]
  },
  {
   "cell_type": "code",
   "execution_count": 121,
   "id": "047e2d14-387a-4ea2-906b-68ebb6592fb6",
   "metadata": {},
   "outputs": [],
   "source": [
    "# Definir las herramientas\n",
    "functions = [\n",
    "    {\n",
    "        \"name\": \"get_users\",\n",
    "        \"description\": \"Obtener el listado de usuarios del sistema.\",\n",
    "        \"parameters\": {\n",
    "            \"type\": \"object\",\n",
    "            \"properties\": {\n",
    "            },\n",
    "            \"required\": [\"location\"]\n",
    "        }\n",
    "    }\n",
    "]"
   ]
  },
  {
   "cell_type": "code",
   "execution_count": 122,
   "id": "5509b8df-968c-4904-a3e3-48fa5741a4c0",
   "metadata": {},
   "outputs": [],
   "source": [
    "\n",
    "def get_users():\n",
    "\n",
    "    return [\"Miguel\", \"Pedro\"]"
   ]
  },
  {
   "cell_type": "code",
   "execution_count": 128,
   "id": "9c088e24-a5a7-4326-9add-4e83929dd10e",
   "metadata": {},
   "outputs": [],
   "source": [
    "config = dotenv_values(\".env\")"
   ]
  },
  {
   "cell_type": "code",
   "execution_count": 130,
   "id": "c8c1c732-1f5a-4766-9728-199dd6a4d777",
   "metadata": {},
   "outputs": [],
   "source": [
    "openai_api_key = config.get(\"OPENAI_API_KEY\")\n",
    "\n",
    "model_name ='gpt-3.5-turbo'\n"
   ]
  },
  {
   "cell_type": "code",
   "execution_count": 132,
   "id": "2820f46b-bd6d-4e1e-a555-2ce472fd16f1",
   "metadata": {},
   "outputs": [],
   "source": [
    "# Crear una instancia de ChatOpenAI con el modelo y la clave API\n",
    "llm = ChatOpenAI(\n",
    "    model=model_name,\n",
    "    api_key=openai_api_key,\n",
    "    temperature=0.2  # Control de aleatoriedad\n",
    ")\n"
   ]
  },
  {
   "cell_type": "code",
   "execution_count": 133,
   "id": "24b1694b-43a8-47dd-b0f9-37f700445e20",
   "metadata": {},
   "outputs": [],
   "source": [
    "# Configurar el modelo para usar las funciones\n",
    "llm_with_functions = llm.bind(functions=functions)"
   ]
  },
  {
   "cell_type": "code",
   "execution_count": 134,
   "id": "7dfa8c9a-bb72-4cc4-b448-5474fd3641bd",
   "metadata": {},
   "outputs": [],
   "source": [
    "prompt = 'Quiero Obtener el listado de usuarios del sistema'"
   ]
  },
  {
   "cell_type": "code",
   "execution_count": 135,
   "id": "28557082-cd9c-415c-a7ae-3a756d241510",
   "metadata": {},
   "outputs": [],
   "source": [
    "# Generar una respuesta utilizando LangChain\n",
    "response = llm_with_functions.invoke([HumanMessage(content=prompt)])"
   ]
  },
  {
   "cell_type": "code",
   "execution_count": 136,
   "id": "aa42fc0c-16c4-4dc9-b4bb-7c49b6d63899",
   "metadata": {},
   "outputs": [],
   "source": [
    "function_call = response.additional_kwargs['function_call']\n",
    "function_name = function_call.get('name')"
   ]
  },
  {
   "cell_type": "code",
   "execution_count": 137,
   "id": "78963c80-793d-404c-a734-8e6697b16b91",
   "metadata": {},
   "outputs": [],
   "source": [
    "# Extraer los argumentos de la función\n",
    "function_args = json.loads(function_call.get('arguments', '{}'))"
   ]
  },
  {
   "cell_type": "code",
   "execution_count": 138,
   "id": "8d08d0ab-2aac-4844-8bd6-4eb6072b0d8b",
   "metadata": {},
   "outputs": [],
   "source": [
    "result = get_users(**function_args)"
   ]
  },
  {
   "cell_type": "code",
   "execution_count": 139,
   "id": "1096ffe1-13d9-4a2e-9a39-b2ed7d04caa2",
   "metadata": {},
   "outputs": [],
   "source": [
    "# Crear un mensaje con el resultado de la función\n",
    "function_message = FunctionMessage(\n",
    "    name=function_name,\n",
    "    content=json.dumps(result)\n",
    ")"
   ]
  },
  {
   "cell_type": "code",
   "execution_count": 140,
   "id": "8994c211-435c-4162-a59d-add7ca2f599d",
   "metadata": {},
   "outputs": [
    {
     "name": "stdout",
     "output_type": "stream",
     "text": [
      "Los usuarios del sistema son: Miguel y Pedro.\n"
     ]
    }
   ],
   "source": [
    "if function_name == \"get_users\":\n",
    "\n",
    "    result = get_users(**function_args)\n",
    "    \n",
    "    # Crear un mensaje con el resultado de la función\n",
    "    function_message = FunctionMessage(\n",
    "        name=function_name,\n",
    "        content=json.dumps(result)\n",
    "    )\n",
    "    \n",
    "    # Generar una respuesta final basada en el resultado de la función\n",
    "    messages = [\n",
    "        HumanMessage(content=prompt),\n",
    "        response,  # La respuesta inicial del modelo\n",
    "        function_message  # El resultado de la función\n",
    "    ]\n",
    "    \n",
    "    # Obtener la respuesta final\n",
    "    final_response = llm.invoke(messages)\n",
    "    \n",
    "    print(final_response.content)"
   ]
  },
  {
   "cell_type": "code",
   "execution_count": null,
   "id": "e6df6f84-d36f-4319-b3fc-f28a4380f764",
   "metadata": {},
   "outputs": [],
   "source": []
  }
 ],
 "metadata": {
  "kernelspec": {
   "display_name": "Python 3 (ipykernel)",
   "language": "python",
   "name": "python3"
  },
  "language_info": {
   "codemirror_mode": {
    "name": "ipython",
    "version": 3
   },
   "file_extension": ".py",
   "mimetype": "text/x-python",
   "name": "python",
   "nbconvert_exporter": "python",
   "pygments_lexer": "ipython3",
   "version": "3.12.8"
  }
 },
 "nbformat": 4,
 "nbformat_minor": 5
}
